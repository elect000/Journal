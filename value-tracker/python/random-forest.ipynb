{
 "cells": [
  {
   "cell_type": "code",
   "execution_count": 1,
   "metadata": {},
   "outputs": [
    {
     "name": "stdout",
     "output_type": "stream",
     "text": [
      "[2]\n"
     ]
    }
   ],
   "source": [
    "# http://pythondatascience.plavox.info/python%E3%81%A8r%E3%81%AE%E9%81%95%E3%81%84/%E3%83%A9%E3%83%B3%E3%83%80%E3%83%A0%E3%83%95%E3%82%A9%E3%83%AC%E3%82%B9%E3%83%88%E6%B3%95\n",
    "# random forest\n",
    "from sklearn.datasets import load_iris\n",
    "from sklearn.ensemble import RandomForestClassifier\n",
    " \n",
    "iris = load_iris()\n",
    "X, y = iris.data[:-1], iris.target[:-1]\n",
    " \n",
    "rf = RandomForestClassifier()\n",
    "rf.fit(X, y)\n",
    " \n",
    "print(rf.predict([iris.data[-1]]))\n"
   ]
  },
  {
   "cell_type": "code",
   "execution_count": 3,
   "metadata": {},
   "outputs": [
    {
     "name": "stdout",
     "output_type": "stream",
     "text": [
      "1\n",
      "-1\n"
     ]
    }
   ],
   "source": [
    "# http://qiita.com/tma15/items/769c924dda383a378a63\n",
    "from sklearn.ensemble import RandomForestClassifier\n",
    "\n",
    "trainingdata = [[1, 1], [2, 2], [-1, -1], [-2, -2]]\n",
    "traininglabel = [1, 1, -1, -1]\n",
    "testdata = [[3, 3], [-3, -3]]\n",
    "\n",
    "model = RandomForestClassifier()\n",
    "model.fit(trainingdata, traininglabel)\n",
    "output = model.predict(testdata)\n",
    "\n",
    "for label in output: \n",
    "    print(label)"
   ]
  },
  {
   "cell_type": "code",
   "execution_count": 4,
   "metadata": {},
   "outputs": [
    {
     "name": "stdout",
     "output_type": "stream",
     "text": [
      "Automatically created module for IPython interactive environment\n"
     ]
    },
    {
     "data": {
      "image/png": "[encoded data removed]",
      "text/plain": [
       "<matplotlib.figure.Figure at 0x7fabb2b6f278>"
      ]
     },
     "metadata": {},
     "output_type": "display_data"
    }
   ],
   "source": [
    "# https://scikit-learn.org/stable/auto_examples/tree/plot_tree_regression.html\n",
    "print(__doc__)\n",
    "\n",
    "# Import the necessary modules and libraries\n",
    "import numpy as np\n",
    "from sklearn.tree import DecisionTreeRegressor\n",
    "import matplotlib.pyplot as plt\n",
    "\n",
    "# Create a random dataset\n",
    "rng = np.random.RandomState(1)\n",
    "X = np.sort(5 * rng.rand(80, 1), axis=0)\n",
    "y = np.sin(X).ravel()\n",
    "y[::5] += 3 * (0.5 - rng.rand(16))\n",
    "\n",
    "# Fit regression model\n",
    "regr_1 = DecisionTreeRegressor(max_depth=2)\n",
    "regr_2 = DecisionTreeRegressor(max_depth=5)\n",
    "regr_1.fit(X, y)\n",
    "regr_2.fit(X, y)\n",
    "\n",
    "# Predict\n",
    "X_test = np.arange(0.0, 5.0, 0.01)[:, np.newaxis]\n",
    "y_1 = regr_1.predict(X_test)\n",
    "y_2 = regr_2.predict(X_test)\n",
    "\n",
    "# Plot the results\n",
    "plt.figure()\n",
    "plt.scatter(X, y, c=\"darkorange\", label=\"data\")\n",
    "plt.plot(X_test, y_1, color=\"cornflowerblue\", label=\"max_depth=2\", linewidth=2)\n",
    "plt.plot(X_test, y_2, color=\"yellowgreen\", label=\"max_depth=5\", linewidth=2)\n",
    "plt.xlabel(\"data\")\n",
    "plt.ylabel(\"target\")\n",
    "plt.title(\"Decision Tree Regression\")\n",
    "plt.legend()\n",
    "plt.show()"
   ]
  },
  {
   "cell_type": "code",
   "execution_count": 12,
   "metadata": {},
   "outputs": [
    {
     "name": "stdout",
     "output_type": "stream",
     "text": [
      "Feature Importances:\n",
      "\tCRIM       : 0.044707\n",
      "\tZN         : 0.001540\n",
      "\tINDUS      : 0.007285\n",
      "\tCHAS       : 0.001745\n",
      "\tNOX        : 0.014344\n",
      "\tRM         : 0.430240\n",
      "\tAGE        : 0.011214\n",
      "\tDIS        : 0.024328\n",
      "\tRAD        : 0.005291\n",
      "\tTAX        : 0.014018\n",
      "\tPTRATIO    : 0.032169\n",
      "\tB          : 0.007991\n",
      "\tLSTAT      : 0.405128\n"
     ]
    }
   ],
   "source": [
    "# http://qiita.com/TomokIshii/items/290adc16e2ca5032ca07\n",
    "# 回帰問題\n",
    "import numpy as np\n",
    "from sklearn.datasets import load_boston\n",
    "from sklearn.model_selection import train_test_split\n",
    "from sklearn.metrics import accuracy_score\n",
    "from sklearn.ensemble import RandomForestRegressor\n",
    "\n",
    "boston = load_boston()\n",
    "X = boston.data\n",
    "y = boston.target\n",
    "X_train, X_test, y_train, y_test = train_test_split(\n",
    "        X, y, test_size=0.2, random_state=0)\n",
    "\n",
    "rf_reg = RandomForestRegressor(n_estimators=10)\n",
    "rf_reg = rf_reg.fit(X_train, y_train)\n",
    "\n",
    "fti = rf_reg.feature_importances_\n",
    "\n",
    "print('Feature Importances:')\n",
    "for i, feat in enumerate(boston['feature_names']):\n",
    "    print('\\t{0:10s} : {1:>.6f}'.format(feat, fti[i]))"
   ]
  }
 ],
 "metadata": {
  "kernelspec": {
   "display_name": "Python 3",
   "language": "python",
   "name": "python3"
  },
  "language_info": {
   "codemirror_mode": {
    "name": "ipython",
    "version": 3
   },
   "file_extension": ".py",
   "mimetype": "text/x-python",
   "name": "python",
   "nbconvert_exporter": "python",
   "pygments_lexer": "ipython3",
   "version": "3.6.1"
  }
 },
 "nbformat": 4,
 "nbformat_minor": 2
}
