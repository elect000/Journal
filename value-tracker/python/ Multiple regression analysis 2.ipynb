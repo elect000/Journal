{
 "cells": [
  {
   "cell_type": "code",
   "execution_count": 8,
   "metadata": {},
   "outputs": [
    {
     "name": "stdout",
     "output_type": "stream",
     "text": [
      "重回帰式: 配向度 = -34.712930835068164+ 3.469812630117971*温度 + 0.5330094841545212*圧力\n"
     ]
    }
   ],
   "source": [
    "# http://qiita.com/ykchat/items/04e4b652e533d2357216\n",
    "# coding: UTF-8\n",
    "import numpy as np\n",
    "\n",
    "def stat(obj, exp):\n",
    "\n",
    "    n = exp.shape[1]\n",
    "\n",
    "    exp = np.vstack([np.ones(n), exp]) # 定数項、説明変数\n",
    "\n",
    "    coef = np.linalg.lstsq(exp.T, obj)[0] # 偏回帰係数\n",
    "\n",
    "    return coef\n",
    "\n",
    "if __name__ == '__main__':\n",
    "\n",
    "    f = (45, 38, 41, 34, 59, 47, 35, 43, 54, 52)                     # 配向度\n",
    "    t = (17.5, 17.0, 18.5, 16.0, 19.0, 19.5, 16.0, 18.0, 19.0, 19.5) # 温度\n",
    "    p = (30, 25, 20, 30, 45, 35, 25, 35, 35, 40)                     # 圧力\n",
    "\n",
    "    obj = np.array(f)      # 目的変数\n",
    "    exp = np.array([t, p]) # 説明変数\n",
    "\n",
    "    b0, bt, bp = stat(obj, exp)\n",
    "\n",
    "    print(\"重回帰式: 配向度 = {}+ {}*温度 + {}*圧力\".format(b0, bt, bp))"
   ]
  }
 ],
 "metadata": {
  "kernelspec": {
   "display_name": "Python 3",
   "language": "python",
   "name": "python3"
  },
  "language_info": {
   "codemirror_mode": {
    "name": "ipython",
    "version": 3
   },
   "file_extension": ".py",
   "mimetype": "text/x-python",
   "name": "python",
   "nbconvert_exporter": "python",
   "pygments_lexer": "ipython3",
   "version": "3.6.1"
  }
 },
 "nbformat": 4,
 "nbformat_minor": 2
}
